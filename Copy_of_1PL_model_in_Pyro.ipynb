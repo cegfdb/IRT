{
  "nbformat": 4,
  "nbformat_minor": 0,
  "metadata": {
    "colab": {
      "name": "Copy of 1PL-model in Pyro",
      "provenance": [],
      "collapsed_sections": [],
      "machine_shape": "hm",
      "include_colab_link": true
    },
    "kernelspec": {
      "name": "python3",
      "display_name": "Python 3"
    },
    "accelerator": "GPU"
  },
  "cells": [
    {
      "cell_type": "markdown",
      "metadata": {
        "id": "view-in-github",
        "colab_type": "text"
      },
      "source": [
        "<a href=\"https://colab.research.google.com/github/cegfdb/IRT/blob/master/Copy_of_1PL_model_in_Pyro.ipynb\" target=\"_parent\"><img src=\"https://colab.research.google.com/assets/colab-badge.svg\" alt=\"Open In Colab\"/></a>"
      ]
    },
    {
      "cell_type": "code",
      "metadata": {
        "id": "Dj7ChWs08Z0y",
        "colab": {
          "base_uri": "https://localhost:8080/"
        },
        "outputId": "ec86b84f-f08d-43d8-ae33-5807a25c40c4"
      },
      "source": [
        "!pip3 install pyro-ppl"
      ],
      "execution_count": null,
      "outputs": [
        {
          "output_type": "stream",
          "text": [
            "Collecting pyro-ppl\n",
            "\u001b[?25l  Downloading https://files.pythonhosted.org/packages/d5/6c/60e3d9c258d0a145013e7b88d667879ac7ae131c3dd30bb5971548f101bb/pyro_ppl-1.5.1-py3-none-any.whl (607kB)\n",
            "\u001b[K     |████████████████████████████████| 614kB 5.3MB/s \n",
            "\u001b[?25hCollecting pyro-api>=0.1.1\n",
            "  Downloading https://files.pythonhosted.org/packages/fc/81/957ae78e6398460a7230b0eb9b8f1cb954c5e913e868e48d89324c68cec7/pyro_api-0.1.2-py3-none-any.whl\n",
            "Requirement already satisfied: opt-einsum>=2.3.2 in /usr/local/lib/python3.6/dist-packages (from pyro-ppl) (3.3.0)\n",
            "Requirement already satisfied: tqdm>=4.36 in /usr/local/lib/python3.6/dist-packages (from pyro-ppl) (4.41.1)\n",
            "Requirement already satisfied: numpy>=1.7 in /usr/local/lib/python3.6/dist-packages (from pyro-ppl) (1.18.5)\n",
            "Requirement already satisfied: torch>=1.6.0 in /usr/local/lib/python3.6/dist-packages (from pyro-ppl) (1.7.0+cu101)\n",
            "Requirement already satisfied: typing-extensions in /usr/local/lib/python3.6/dist-packages (from torch>=1.6.0->pyro-ppl) (3.7.4.3)\n",
            "Requirement already satisfied: future in /usr/local/lib/python3.6/dist-packages (from torch>=1.6.0->pyro-ppl) (0.16.0)\n",
            "Requirement already satisfied: dataclasses in /usr/local/lib/python3.6/dist-packages (from torch>=1.6.0->pyro-ppl) (0.8)\n",
            "Installing collected packages: pyro-api, pyro-ppl\n",
            "Successfully installed pyro-api-0.1.2 pyro-ppl-1.5.1\n"
          ],
          "name": "stdout"
        }
      ]
    },
    {
      "cell_type": "code",
      "metadata": {
        "id": "_JY63RBhGtu7"
      },
      "source": [
        "import matplotlib.pyplot as plt\n",
        "import seaborn as sns\n",
        "import numpy as np\n",
        "\n",
        "import torch\n",
        "import torch.nn as nn\n",
        "\n",
        "import pyro\n",
        "import pyro.distributions as dist\n",
        "import pyro.optim as optim\n",
        "import pyro.poutine as poutine\n",
        "from pyro.infer import SVI, Trace_ELBO\n",
        "from pyro.infer.mcmc import MCMC, NUTS\n",
        "from pyro.contrib.autoguide import AutoDiagonalNormal, AutoMultivariateNormal\n",
        "import torch.distributions.constraints as constraints\n",
        "\n",
        "pyro.enable_validation(True)"
      ],
      "execution_count": null,
      "outputs": []
    },
    {
      "cell_type": "markdown",
      "metadata": {
        "id": "bEOehUdpHS9q"
      },
      "source": [
        "##Generate data"
      ]
    },
    {
      "cell_type": "code",
      "metadata": {
        "id": "Mu6gKnegiQJu"
      },
      "source": [
        "n_persons = 1000\n",
        "n_questions = 20\n",
        "\n",
        "np.random.seed(543678)\n",
        "true_theta = np.random.normal(loc=0, scale=1, size=(n_persons,1))\n",
        "true_theta = np.tile(true_theta, n_questions)\n",
        "true_beta = np.random.normal(loc=0, scale=1, size=(1,n_questions))"
      ],
      "execution_count": null,
      "outputs": []
    },
    {
      "cell_type": "code",
      "metadata": {
        "id": "LZPzByOs5wlh",
        "colab": {
          "base_uri": "https://localhost:8080/",
          "height": 35
        },
        "outputId": "eb4042af-59f4-4efc-e1a1-46de73b2720f"
      },
      "source": [
        "true_beta.size"
      ],
      "execution_count": null,
      "outputs": [
        {
          "output_type": "execute_result",
          "data": {
            "text/plain": [
              "20"
            ]
          },
          "metadata": {
            "tags": []
          },
          "execution_count": 27
        }
      ]
    },
    {
      "cell_type": "code",
      "metadata": {
        "id": "tdhST1QE8MuX"
      },
      "source": [
        "likelihood = np.exp(true_theta - true_beta) / (1 + np.exp(true_theta - true_beta))\n",
        "answers = np.random.binomial(size=(n_persons, n_questions), p=likelihood, n=1) # calculate answers based on theta and likelihood function\n",
        "answers = torch.tensor(answers).float() # convert to tensor"
      ],
      "execution_count": null,
      "outputs": []
    },
    {
      "cell_type": "code",
      "metadata": {
        "id": "zrZbnJTvDMog",
        "colab": {
          "base_uri": "https://localhost:8080/",
          "height": 265
        },
        "outputId": "f243296a-17a2-4bc6-a721-0ff91fae4d1c"
      },
      "source": [
        "plt.hist(torch.sum(answers, 1))\n",
        "plt.show()"
      ],
      "execution_count": null,
      "outputs": [
        {
          "output_type": "display_data",
          "data": {
            "image/png": "[encoded data removed]",
            "text/plain": [
              "<Figure size 432x288 with 1 Axes>"
            ]
          },
          "metadata": {
            "tags": [],
            "needs_background": "light"
          }
        }
      ]
    },
    {
      "cell_type": "code",
      "metadata": {
        "id": "-My_aIGSdHsq"
      },
      "source": [
        "# Define model\n",
        "def rasch(data):\n",
        "    n_persons = data.shape[0]\n",
        "    n_questions = data.shape[1]\n",
        "    person_plate = pyro.plate('person', n_persons, dim=-2) \n",
        "    question_plate = pyro.plate('question', n_questions, dim=-1) \n",
        "\n",
        "    with person_plate: # 1st dimension independent\n",
        "        theta = pyro.sample(\n",
        "            'theta', pyro.distributions.Normal(0, 1)) # batch_shape: (n_persons, 1) - .expand([n_persons]) is automatic\n",
        "    with question_plate: # 2nd dimension independent\n",
        "        beta = pyro.sample(\n",
        "            'beta', pyro.distributions.Normal(0, 1)) # batch_shape: (n_questions)\n",
        "    with person_plate, question_plate: \n",
        "        # Likelihood\n",
        "        eta = theta - beta\n",
        "        p = 1 / (1 + torch.exp(-eta))\n",
        "        # Observation\n",
        "        obs = pyro.sample(\n",
        "            'obs', dist.Bernoulli(p), obs=data) \n",
        "    return obs, theta, beta"
      ],
      "execution_count": null,
      "outputs": []
    },
    {
      "cell_type": "code",
      "metadata": {
        "id": "tqV0NHjYDCcO",
        "colab": {
          "base_uri": "https://localhost:8080/",
          "height": 329
        },
        "outputId": "632cf744-4492-4557-8ecb-c946142ded89"
      },
      "source": [
        "# Print distribution shape (batch_shape | event_shape), value shape and log probability shape\n",
        "trace = poutine.trace(rasch).get_trace(answers)\n",
        "trace.compute_log_prob()\n",
        "print(trace.format_shapes())"
      ],
      "execution_count": null,
      "outputs": [
        {
          "output_type": "stream",
          "text": [
            "Trace Shapes:            \n",
            " Param Sites:            \n",
            "Sample Sites:            \n",
            "  person dist           |\n",
            "        value      1000 |\n",
            "     log_prob           |\n",
            "question dist           |\n",
            "        value        20 |\n",
            "     log_prob           |\n",
            "   theta dist 1000    1 |\n",
            "        value 1000    1 |\n",
            "     log_prob 1000    1 |\n",
            "    beta dist        20 |\n",
            "        value        20 |\n",
            "     log_prob        20 |\n",
            "     obs dist 1000   20 |\n",
            "        value 1000   20 |\n",
            "     log_prob 1000   20 |\n"
          ],
          "name": "stdout"
        }
      ]
    },
    {
      "cell_type": "code",
      "metadata": {
        "id": "UHkUVzjJKXhD",
        "colab": {
          "base_uri": "https://localhost:8080/",
          "height": 69
        },
        "outputId": "e51c0a00-31a9-48b7-fe99-e8777e952fba"
      },
      "source": [
        "conditioned_obs, theta_prior, beta_prior = rasch(answers)\n",
        "print(conditioned_obs.shape)\n",
        "print(theta_prior.shape)\n",
        "print(beta_prior.shape)"
      ],
      "execution_count": null,
      "outputs": [
        {
          "output_type": "stream",
          "text": [
            "torch.Size([1000, 20])\n",
            "torch.Size([1000, 1])\n",
            "torch.Size([20])\n"
          ],
          "name": "stdout"
        }
      ]
    },
    {
      "cell_type": "code",
      "metadata": {
        "id": "3sBsVhu4Op2E",
        "colab": {
          "base_uri": "https://localhost:8080/",
          "height": 265
        },
        "outputId": "2b7d3f83-f636-4805-c207-5e6941013446"
      },
      "source": [
        "plt.figure()\n",
        "plt.subplot(121)\n",
        "plt.hist(theta_prior.flatten())\n",
        "plt.subplot(122)\n",
        "plt.hist(beta_prior.flatten())\n",
        "plt.show()"
      ],
      "execution_count": null,
      "outputs": [
        {
          "output_type": "display_data",
          "data": {
            "image/png": "[encoded data removed]",
            "text/plain": [
              "<Figure size 432x288 with 2 Axes>"
            ]
          },
          "metadata": {
            "tags": [],
            "needs_background": "light"
          }
        }
      ]
    },
    {
      "cell_type": "code",
      "metadata": {
        "id": "XNuQIg4lUmN1",
        "colab": {
          "base_uri": "https://localhost:8080/",
          "height": 283
        },
        "outputId": "4df5ccc3-0acf-40b9-e296-56e9e0c54af8"
      },
      "source": [
        "# Compare prior sample of theta to true theta\n",
        "plt.hist(true_theta[:, 0], alpha=0.5, label='True theta')\n",
        "plt.hist(theta_prior.flatten(), alpha=0.5, label='Theta prior')\n",
        "plt.legend()\n",
        "print('RMSE: {}'.format(torch.sqrt(torch.mean(torch.pow(theta_prior.flatten() - torch.tensor(true_theta[:, 0]).float(), 2)))))"
      ],
      "execution_count": null,
      "outputs": [
        {
          "output_type": "stream",
          "text": [
            "RMSE: 1.422760248184204\n"
          ],
          "name": "stdout"
        },
        {
          "output_type": "display_data",
          "data": {
            "image/png": "[encoded data removed]",
            "text/plain": [
              "<Figure size 432x288 with 1 Axes>"
            ]
          },
          "metadata": {
            "tags": [],
            "needs_background": "light"
          }
        }
      ]
    },
    {
      "cell_type": "markdown",
      "metadata": {
        "id": "EZVzjO7LWplD"
      },
      "source": [
        "## Define guide"
      ]
    },
    {
      "cell_type": "code",
      "metadata": {
        "id": "gIiCBA3oFaBU"
      },
      "source": [
        "# Vectorized guide - seems to have issues with parameter sizes? Posterior is not ok\n",
        "def rasch_guide(data):\n",
        "    n_persons = torch.tensor(data.shape[0])\n",
        "    n_questions = torch.tensor(data.shape[1])\n",
        "    person_plate = pyro.plate('person', n_persons, dim=-2)\n",
        "    question_plate = pyro.plate('question', n_questions, dim=-1)\n",
        "\n",
        "    theta_sigma = pyro.param('theta_sigma', torch.ones(n_persons), constraint=constraints.positive)         \n",
        "    beta_sigma = pyro.param('beta_sigma', torch.ones(n_questions), constraint=constraints.positive)\n",
        "  \n",
        "    with person_plate: # 1st dimension independent\n",
        "        theta_mu = pyro.param('theta_mu', torch.zeros(n_persons))\n",
        "        theta = pyro.sample('theta', pyro.distributions.Normal(theta_mu.unsqueeze(-1), theta_sigma.unsqueeze(-1)))\n",
        "        #print(\"guide theta\",theta.shape,\"theta_mu\",theta_mu.shape,\"theta_sigma\",theta_sigma.shape)\n",
        "   \n",
        "    with question_plate: # 2nd dimension independent\n",
        "        beta_mu = pyro.param('beta_mu', torch.zeros(n_questions))\n",
        "        beta = pyro.sample('beta', pyro.distributions.Normal(beta_mu, beta_sigma))\n",
        "        #print(\"guide beta\",beta.shape)\n",
        "    \n",
        "    return theta, beta"
      ],
      "execution_count": null,
      "outputs": []
    },
    {
      "cell_type": "code",
      "metadata": {
        "id": "G0kCUg9VGSx8",
        "colab": {
          "base_uri": "https://localhost:8080/",
          "height": 347
        },
        "outputId": "04da3847-1c42-4256-87c7-55463a9fefc3"
      },
      "source": [
        "pyro.clear_param_store()\n",
        "trace = poutine.trace(rasch_guide).get_trace(answers)\n",
        "trace.compute_log_prob()\n",
        "print(trace.format_shapes())"
      ],
      "execution_count": null,
      "outputs": [
        {
          "output_type": "stream",
          "text": [
            "Trace Shapes:               \n",
            " Param Sites:               \n",
            "  theta_sigma           1000\n",
            "   beta_sigma             20\n",
            "     theta_mu           1000\n",
            "      beta_mu             20\n",
            "Sample Sites:               \n",
            "  person dist              |\n",
            "        value      1000    |\n",
            "     log_prob              |\n",
            "question dist              |\n",
            "        value        20    |\n",
            "     log_prob              |\n",
            "   theta dist 1000    1    |\n",
            "        value 1000    1    |\n",
            "     log_prob 1000    1    |\n",
            "    beta dist        20    |\n",
            "        value        20    |\n",
            "     log_prob        20    |\n"
          ],
          "name": "stdout"
        }
      ]
    },
    {
      "cell_type": "code",
      "metadata": {
        "id": "2UjR7X0-IFOL",
        "colab": {
          "base_uri": "https://localhost:8080/",
          "height": 52
        },
        "outputId": "2c7fa3ff-c047-4d11-b416-ff310acf5469"
      },
      "source": [
        "pyro.clear_param_store()\n",
        "theta_q, beta_q = rasch_guide(answers)\n",
        "print(theta_q.shape)\n",
        "print(beta_q.shape)"
      ],
      "execution_count": null,
      "outputs": [
        {
          "output_type": "stream",
          "text": [
            "torch.Size([1000, 1])\n",
            "torch.Size([20])\n"
          ],
          "name": "stdout"
        }
      ]
    },
    {
      "cell_type": "markdown",
      "metadata": {
        "id": "XQY2ZTh8W6gK"
      },
      "source": [
        "## Run inference"
      ]
    },
    {
      "cell_type": "code",
      "metadata": {
        "id": "4xs9vfTSZRMY",
        "colab": {
          "base_uri": "https://localhost:8080/",
          "height": 363
        },
        "outputId": "24268a9e-a249-442e-b6e3-643f775bad70"
      },
      "source": [
        "pyro.clear_param_store()\n",
        "NUM_STEPS = 2500\n",
        "\n",
        "svi = SVI(\n",
        "    model=rasch, \n",
        "    guide=rasch_guide,\n",
        "    #optim=optim.SGD({\"lr\": 0.0005, \"momentum\":0.1}),\n",
        "    optim=optim.Adam({'lr': 0.05}),\n",
        "    loss=pyro.infer.Trace_ELBO(),\n",
        "   # num_samples=10, # Number of samples for Monte Carlo posterior approximation\n",
        "   # num_steps= # Number of optimization steps to take in run()\n",
        ")\n",
        "                \n",
        "losses, theta, theta_mu, theta_sigma = [], [], [], []\n",
        "for t in range(NUM_STEPS):\n",
        "    losses.append(svi.step(answers))\n",
        "    theta_mu.append(pyro.param('theta_mu'))\n",
        "    theta_sigma.append(pyro.param('theta_sigma'))\n",
        "    theta_mu.append(pyro.param('auto_loc')[0].item())\n",
        "    theta_sigma.append(pyro.param('auto_scale')[0].item())\n"
      ],
      "execution_count": null,
      "outputs": [
        {
          "output_type": "error",
          "ename": "KeyError",
          "evalue": "ignored",
          "traceback": [
            "\u001b[0;31m---------------------------------------------------------------------------\u001b[0m",
            "\u001b[0;31mKeyError\u001b[0m                                  Traceback (most recent call last)",
            "\u001b[0;32m<ipython-input-33-e5fd267f1d14>\u001b[0m in \u001b[0;36m<module>\u001b[0;34m()\u001b[0m\n\u001b[1;32m     17\u001b[0m     \u001b[0mtheta_mu\u001b[0m\u001b[0;34m.\u001b[0m\u001b[0mappend\u001b[0m\u001b[0;34m(\u001b[0m\u001b[0mpyro\u001b[0m\u001b[0;34m.\u001b[0m\u001b[0mparam\u001b[0m\u001b[0;34m(\u001b[0m\u001b[0;34m'theta_mu'\u001b[0m\u001b[0;34m)\u001b[0m\u001b[0;34m)\u001b[0m\u001b[0;34m\u001b[0m\u001b[0;34m\u001b[0m\u001b[0m\n\u001b[1;32m     18\u001b[0m     \u001b[0mtheta_sigma\u001b[0m\u001b[0;34m.\u001b[0m\u001b[0mappend\u001b[0m\u001b[0;34m(\u001b[0m\u001b[0mpyro\u001b[0m\u001b[0;34m.\u001b[0m\u001b[0mparam\u001b[0m\u001b[0;34m(\u001b[0m\u001b[0;34m'theta_sigma'\u001b[0m\u001b[0;34m)\u001b[0m\u001b[0;34m)\u001b[0m\u001b[0;34m\u001b[0m\u001b[0;34m\u001b[0m\u001b[0m\n\u001b[0;32m---> 19\u001b[0;31m     \u001b[0mtheta_mu\u001b[0m\u001b[0;34m.\u001b[0m\u001b[0mappend\u001b[0m\u001b[0;34m(\u001b[0m\u001b[0mpyro\u001b[0m\u001b[0;34m.\u001b[0m\u001b[0mparam\u001b[0m\u001b[0;34m(\u001b[0m\u001b[0;34m'auto_loc'\u001b[0m\u001b[0;34m)\u001b[0m\u001b[0;34m[\u001b[0m\u001b[0;36m0\u001b[0m\u001b[0;34m]\u001b[0m\u001b[0;34m.\u001b[0m\u001b[0mitem\u001b[0m\u001b[0;34m(\u001b[0m\u001b[0;34m)\u001b[0m\u001b[0;34m)\u001b[0m\u001b[0;34m\u001b[0m\u001b[0;34m\u001b[0m\u001b[0m\n\u001b[0m\u001b[1;32m     20\u001b[0m     \u001b[0mtheta_sigma\u001b[0m\u001b[0;34m.\u001b[0m\u001b[0mappend\u001b[0m\u001b[0;34m(\u001b[0m\u001b[0mpyro\u001b[0m\u001b[0;34m.\u001b[0m\u001b[0mparam\u001b[0m\u001b[0;34m(\u001b[0m\u001b[0;34m'auto_scale'\u001b[0m\u001b[0;34m)\u001b[0m\u001b[0;34m[\u001b[0m\u001b[0;36m0\u001b[0m\u001b[0;34m]\u001b[0m\u001b[0;34m.\u001b[0m\u001b[0mitem\u001b[0m\u001b[0;34m(\u001b[0m\u001b[0;34m)\u001b[0m\u001b[0;34m)\u001b[0m\u001b[0;34m\u001b[0m\u001b[0;34m\u001b[0m\u001b[0m\n",
            "\u001b[0;32m/usr/local/lib/python3.6/dist-packages/pyro/primitives.py\u001b[0m in \u001b[0;36mparam\u001b[0;34m(name, *args, **kwargs)\u001b[0m\n\u001b[1;32m     59\u001b[0m     \"\"\"\n\u001b[1;32m     60\u001b[0m     \u001b[0mkwargs\u001b[0m\u001b[0;34m[\u001b[0m\u001b[0;34m\"name\"\u001b[0m\u001b[0;34m]\u001b[0m \u001b[0;34m=\u001b[0m \u001b[0mname\u001b[0m\u001b[0;34m\u001b[0m\u001b[0;34m\u001b[0m\u001b[0m\n\u001b[0;32m---> 61\u001b[0;31m     \u001b[0;32mreturn\u001b[0m \u001b[0m_param\u001b[0m\u001b[0;34m(\u001b[0m\u001b[0mname\u001b[0m\u001b[0;34m,\u001b[0m \u001b[0;34m*\u001b[0m\u001b[0margs\u001b[0m\u001b[0;34m,\u001b[0m \u001b[0;34m**\u001b[0m\u001b[0mkwargs\u001b[0m\u001b[0;34m)\u001b[0m\u001b[0;34m\u001b[0m\u001b[0;34m\u001b[0m\u001b[0m\n\u001b[0m\u001b[1;32m     62\u001b[0m \u001b[0;34m\u001b[0m\u001b[0m\n\u001b[1;32m     63\u001b[0m \u001b[0;34m\u001b[0m\u001b[0m\n",
            "\u001b[0;32m/usr/local/lib/python3.6/dist-packages/pyro/poutine/runtime.py\u001b[0m in \u001b[0;36m_fn\u001b[0;34m(*args, **kwargs)\u001b[0m\n\u001b[1;32m    242\u001b[0m \u001b[0;34m\u001b[0m\u001b[0m\n\u001b[1;32m    243\u001b[0m         \u001b[0;32mif\u001b[0m \u001b[0;32mnot\u001b[0m \u001b[0mam_i_wrapped\u001b[0m\u001b[0;34m(\u001b[0m\u001b[0;34m)\u001b[0m\u001b[0;34m:\u001b[0m\u001b[0;34m\u001b[0m\u001b[0;34m\u001b[0m\u001b[0m\n\u001b[0;32m--> 244\u001b[0;31m             \u001b[0;32mreturn\u001b[0m \u001b[0mfn\u001b[0m\u001b[0;34m(\u001b[0m\u001b[0;34m*\u001b[0m\u001b[0margs\u001b[0m\u001b[0;34m,\u001b[0m \u001b[0;34m**\u001b[0m\u001b[0mkwargs\u001b[0m\u001b[0;34m)\u001b[0m\u001b[0;34m\u001b[0m\u001b[0;34m\u001b[0m\u001b[0m\n\u001b[0m\u001b[1;32m    245\u001b[0m         \u001b[0;32melse\u001b[0m\u001b[0;34m:\u001b[0m\u001b[0;34m\u001b[0m\u001b[0;34m\u001b[0m\u001b[0m\n\u001b[1;32m    246\u001b[0m             msg = {\n",
            "\u001b[0;32m/usr/local/lib/python3.6/dist-packages/pyro/params/param_store.py\u001b[0m in \u001b[0;36mget_param\u001b[0;34m(self, name, init_tensor, constraint, event_dim)\u001b[0m\n\u001b[1;32m    201\u001b[0m         \"\"\"\n\u001b[1;32m    202\u001b[0m         \u001b[0;32mif\u001b[0m \u001b[0minit_tensor\u001b[0m \u001b[0;32mis\u001b[0m \u001b[0;32mNone\u001b[0m\u001b[0;34m:\u001b[0m\u001b[0;34m\u001b[0m\u001b[0;34m\u001b[0m\u001b[0m\n\u001b[0;32m--> 203\u001b[0;31m             \u001b[0;32mreturn\u001b[0m \u001b[0mself\u001b[0m\u001b[0;34m[\u001b[0m\u001b[0mname\u001b[0m\u001b[0;34m]\u001b[0m\u001b[0;34m\u001b[0m\u001b[0;34m\u001b[0m\u001b[0m\n\u001b[0m\u001b[1;32m    204\u001b[0m         \u001b[0;32melse\u001b[0m\u001b[0;34m:\u001b[0m\u001b[0;34m\u001b[0m\u001b[0;34m\u001b[0m\u001b[0m\n\u001b[1;32m    205\u001b[0m             \u001b[0;32mreturn\u001b[0m \u001b[0mself\u001b[0m\u001b[0;34m.\u001b[0m\u001b[0msetdefault\u001b[0m\u001b[0;34m(\u001b[0m\u001b[0mname\u001b[0m\u001b[0;34m,\u001b[0m \u001b[0minit_tensor\u001b[0m\u001b[0;34m,\u001b[0m \u001b[0mconstraint\u001b[0m\u001b[0;34m)\u001b[0m\u001b[0;34m\u001b[0m\u001b[0;34m\u001b[0m\u001b[0m\n",
            "\u001b[0;32m/usr/local/lib/python3.6/dist-packages/pyro/params/param_store.py\u001b[0m in \u001b[0;36m__getitem__\u001b[0;34m(self, name)\u001b[0m\n\u001b[1;32m     99\u001b[0m         \u001b[0mGet\u001b[0m \u001b[0mthe\u001b[0m \u001b[0mconstrained\u001b[0m \u001b[0mvalue\u001b[0m \u001b[0mof\u001b[0m \u001b[0ma\u001b[0m \u001b[0mnamed\u001b[0m \u001b[0mparameter\u001b[0m\u001b[0;34m.\u001b[0m\u001b[0;34m\u001b[0m\u001b[0;34m\u001b[0m\u001b[0m\n\u001b[1;32m    100\u001b[0m         \"\"\"\n\u001b[0;32m--> 101\u001b[0;31m         \u001b[0munconstrained_value\u001b[0m \u001b[0;34m=\u001b[0m \u001b[0mself\u001b[0m\u001b[0;34m.\u001b[0m\u001b[0m_params\u001b[0m\u001b[0;34m[\u001b[0m\u001b[0mname\u001b[0m\u001b[0;34m]\u001b[0m\u001b[0;34m\u001b[0m\u001b[0;34m\u001b[0m\u001b[0m\n\u001b[0m\u001b[1;32m    102\u001b[0m \u001b[0;34m\u001b[0m\u001b[0m\n\u001b[1;32m    103\u001b[0m         \u001b[0;31m# compute the constrained value\u001b[0m\u001b[0;34m\u001b[0m\u001b[0;34m\u001b[0m\u001b[0;34m\u001b[0m\u001b[0m\n",
            "\u001b[0;31mKeyError\u001b[0m: 'auto_loc'"
          ]
        }
      ]
    },
    {
      "cell_type": "code",
      "metadata": {
        "id": "oA4N3dbA6T_v",
        "colab": {
          "base_uri": "https://localhost:8080/",
          "height": 295
        },
        "outputId": "8d7a6065-9058-4bd5-9be8-f9fc8d7dc034"
      },
      "source": [
        "plt.plot(losses)\n",
        "plt.title(\"ELBO\")\n",
        "plt.xlabel(\"step\")\n",
        "plt.ylabel(\"loss\")\n",
        "plt.show()"
      ],
      "execution_count": null,
      "outputs": [
        {
          "output_type": "display_data",
          "data": {
            "image/png": "[encoded data removed]",
            "text/plain": [
              "<Figure size 432x288 with 1 Axes>"
            ]
          },
          "metadata": {
            "tags": [],
            "needs_background": "light"
          }
        }
      ]
    },
    {
      "cell_type": "code",
      "metadata": {
        "id": "HM9sMmCSNw2q",
        "colab": {
          "base_uri": "https://localhost:8080/",
          "height": 297
        },
        "outputId": "75a8128c-0b3a-4d18-db1d-c1aa76c54d9e"
      },
      "source": [
        "plt.subplot(1,2,1)\n",
        "plt.hlines(xmin=0, xmax=NUM_STEPS, y=true_theta[0,0], linestyles='--')\n",
        "plt.plot(theta_mu)\n",
        "plt.ylabel('theta mu for person 0')\n",
        "\n",
        "plt.subplot(1,2,2)\n",
        "plt.plot(theta_sigma)\n",
        "plt.ylabel('theta sigma for person 0')\n",
        "plt.tight_layout()"
      ],
      "execution_count": null,
      "outputs": [
        {
          "output_type": "display_data",
          "data": {
            "image/png": "[encoded data removed]",
            "text/plain": [
              "<Figure size 432x288 with 2 Axes>"
            ]
          },
          "metadata": {
            "tags": [],
            "needs_background": "light"
          }
        }
      ]
    },
    {
      "cell_type": "code",
      "metadata": {
        "id": "xSvtlR-2L1LQ",
        "colab": {
          "base_uri": "https://localhost:8080/",
          "height": 183
        },
        "outputId": "9235601c-d37e-4f3f-c821-aaa64edebd98"
      },
      "source": [
        "for p in pyro.get_param_store().get_all_param_names():\n",
        "    print('{}: {}'.format(p, pyro.param(p).item()))"
      ],
      "execution_count": null,
      "outputs": [
        {
          "output_type": "error",
          "ename": "ValueError",
          "evalue": "ignored",
          "traceback": [
            "\u001b[0;31m---------------------------------------------------------------------------\u001b[0m",
            "\u001b[0;31mValueError\u001b[0m                                Traceback (most recent call last)",
            "\u001b[0;32m<ipython-input-17-b641606fb486>\u001b[0m in \u001b[0;36m<module>\u001b[0;34m()\u001b[0m\n\u001b[1;32m      1\u001b[0m \u001b[0;32mfor\u001b[0m \u001b[0mp\u001b[0m \u001b[0;32min\u001b[0m \u001b[0mpyro\u001b[0m\u001b[0;34m.\u001b[0m\u001b[0mget_param_store\u001b[0m\u001b[0;34m(\u001b[0m\u001b[0;34m)\u001b[0m\u001b[0;34m.\u001b[0m\u001b[0mget_all_param_names\u001b[0m\u001b[0;34m(\u001b[0m\u001b[0;34m)\u001b[0m\u001b[0;34m:\u001b[0m\u001b[0;34m\u001b[0m\u001b[0;34m\u001b[0m\u001b[0m\n\u001b[0;32m----> 2\u001b[0;31m     \u001b[0mprint\u001b[0m\u001b[0;34m(\u001b[0m\u001b[0;34m'{}: {}'\u001b[0m\u001b[0;34m.\u001b[0m\u001b[0mformat\u001b[0m\u001b[0;34m(\u001b[0m\u001b[0mp\u001b[0m\u001b[0;34m,\u001b[0m \u001b[0mpyro\u001b[0m\u001b[0;34m.\u001b[0m\u001b[0mparam\u001b[0m\u001b[0;34m(\u001b[0m\u001b[0mp\u001b[0m\u001b[0;34m)\u001b[0m\u001b[0;34m.\u001b[0m\u001b[0mitem\u001b[0m\u001b[0;34m(\u001b[0m\u001b[0;34m)\u001b[0m\u001b[0;34m)\u001b[0m\u001b[0;34m)\u001b[0m\u001b[0;34m\u001b[0m\u001b[0;34m\u001b[0m\u001b[0m\n\u001b[0m",
            "\u001b[0;31mValueError\u001b[0m: only one element tensors can be converted to Python scalars"
          ]
        }
      ]
    },
    {
      "cell_type": "markdown",
      "metadata": {
        "id": "PguNT9P7XjFE"
      },
      "source": [
        "## Get approximated posterior\n",
        "\n",
        "Sample from the variational distribution"
      ]
    },
    {
      "cell_type": "code",
      "metadata": {
        "id": "TPa4eC4cW06c",
        "colab": {
          "base_uri": "https://localhost:8080/",
          "height": 52
        },
        "outputId": "935ff51f-871f-449b-c082-5b82f7f416cc"
      },
      "source": [
        "# Sample from the approximated posterior distribution using the parameterized guide\n",
        "theta_posterior, beta_posterior = rasch_guide(answers)\n",
        "print(theta_posterior.shape)\n",
        "print(beta_posterior.shape)"
      ],
      "execution_count": null,
      "outputs": [
        {
          "output_type": "stream",
          "text": [
            "torch.Size([1000, 1])\n",
            "torch.Size([20])\n"
          ],
          "name": "stdout"
        }
      ]
    },
    {
      "cell_type": "code",
      "metadata": {
        "id": "oPxcKDeTWngB",
        "colab": {
          "base_uri": "https://localhost:8080/",
          "height": 283
        },
        "outputId": "93b5f343-a3d4-4efe-e60b-0fe97250d60d"
      },
      "source": [
        "# Compare posterior sample of theta to true theta\n",
        "plt.hist(true_theta[:, 0], alpha=0.5, label='True theta')\n",
        "plt.hist(theta_posterior[:n_persons].detach().flatten(), alpha=0.5, label='Posterior theta')\n",
        "plt.legend()\n",
        "print('RMSE: {}'.format(torch.sqrt(torch.mean(torch.pow(theta_posterior[:n_persons].detach().flatten() - torch.tensor(true_theta[:, 0]).float(), 2)))))"
      ],
      "execution_count": null,
      "outputs": [
        {
          "output_type": "stream",
          "text": [
            "RMSE: 0.6677572727203369\n"
          ],
          "name": "stdout"
        },
        {
          "output_type": "display_data",
          "data": {
            "image/png": "[encoded data removed]",
            "text/plain": [
              "<Figure size 432x288 with 1 Axes>"
            ]
          },
          "metadata": {
            "tags": [],
            "needs_background": "light"
          }
        }
      ]
    },
    {
      "cell_type": "code",
      "metadata": {
        "id": "FpffefWVWse4",
        "colab": {
          "base_uri": "https://localhost:8080/",
          "height": 279
        },
        "outputId": "7aeea9ba-d39c-45a7-f51a-f1928a328646"
      },
      "source": [
        "# Compare posterior sample of theta to true theta\n",
        "plt.scatter(true_theta[:, 0], theta_posterior[:n_persons].detach().flatten())\n",
        "plt.xlabel('True theta')\n",
        "plt.ylabel('Posterior theta')\n",
        "plt.show()"
      ],
      "execution_count": null,
      "outputs": [
        {
          "output_type": "display_data",
          "data": {
            "image/png": "[encoded data removed]",
            "text/plain": [
              "<Figure size 432x288 with 1 Axes>"
            ]
          },
          "metadata": {
            "tags": [],
            "needs_background": "light"
          }
        }
      ]
    }
  ]
}